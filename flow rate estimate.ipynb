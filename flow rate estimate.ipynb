{
 "cells": [
  {
   "cell_type": "code",
   "execution_count": 31,
   "id": "c9139aee",
   "metadata": {},
   "outputs": [],
   "source": [
    "import numpy as np\n",
    "import matplotlib.pyplot as plt"
   ]
  },
  {
   "cell_type": "code",
   "execution_count": 6,
   "id": "133f1c14",
   "metadata": {
    "scrolled": false
   },
   "outputs": [
    {
     "name": "stdout",
     "output_type": "stream",
     "text": [
      "pmass array:\n",
      "[0.0, 0.0, 0.0, 0.0, 0.0, 0.0, 0.0, 0.0, 0.0, 0.0, 0.0, 0.0, 0.0, 0.0, 0.0, 0.0, 0.0, 0.0, -0.5541929, -2.2568908, -2.3634785, -1.7977661, -1.6375647, -1.5601689, -1.206627, -1.157074, -1.2547235, -1.2634349, -1.8419346, -1.7253829, -1.6529623, -1.4876631, -1.3156708, -1.3397721, -1.6866435, -1.5036115, -1.3680226, -1.7085796, -1.4231257, -1.3021671, -1.4589919, -1.2116271, -1.4385856, -1.109152, -0.74561116, -0.29874633, 0.0]\n",
      "/\n",
      "m_dot_max = 2.3634785 kg/s\n",
      "/\n",
      "average flow rate= 1.416791828214286 kg/s\n"
     ]
    }
   ],
   "source": [
    "# \n",
    "# Run type: NEW\n",
    "# Monitor type: Flow rate across surface, Area =   0.18000000E-02\n",
    "# \"Time\",\"pmass\" \n",
    "data =[    0.0000000    ,    0.0000000  ,  \n",
    "   0.10008276E-01,    0.0000000    ,\n",
    "   0.20003383E-01,    0.0000000    ,\n",
    "   0.30011659E-01,    0.0000000    ,\n",
    "   0.40006766E-01,    0.0000000    ,\n",
    "   0.50001873E-01,    0.0000000    ,\n",
    "   0.60010149E-01,    0.0000000    ,\n",
    "   0.70005257E-01,    0.0000000    ,\n",
    "   0.80000364E-01,    0.0000000    ,\n",
    "   0.90008640E-01,    0.0000000    ,\n",
    "   0.10000375    ,    0.0000000    ,\n",
    "   0.10999885    ,    0.0000000    ,\n",
    "   0.12000713    ,    0.0000000    ,\n",
    "   0.13000224    ,    0.0000000    ,\n",
    "   0.14001051    ,    0.0000000    ,\n",
    "   0.15000562    ,    0.0000000    ,\n",
    "   0.16000073    ,    0.0000000    ,\n",
    "   0.17000900    ,    0.0000000    ,\n",
    "   0.18000411    ,  -0.55419290    ,\n",
    "   0.18999922    ,   -2.2568908    ,\n",
    "   0.20000749    ,   -2.3634785    ,\n",
    "   0.21000260    ,   -1.7977661    ,\n",
    "   0.22001088    ,   -1.6375647    ,\n",
    "   0.23000598    ,   -1.5601689    ,\n",
    "   0.24000109    ,   -1.2066270    ,\n",
    "   0.25000937    ,   -1.1570740    ,\n",
    "   0.26000447    ,   -1.2547235    ,\n",
    "   0.26999958    ,   -1.2634349    ,\n",
    "   0.28000786    ,   -1.8419346    ,\n",
    "   0.29000296    ,   -1.7253829    ,\n",
    "   0.30001124    ,   -1.6529623    ,\n",
    "   0.31000635    ,   -1.4876631    ,\n",
    "   0.32000146    ,   -1.3156708    ,\n",
    "   0.33000973    ,   -1.3397721    ,\n",
    "   0.34000484    ,   -1.6866435    ,\n",
    "   0.34999995    ,   -1.5036115    ,\n",
    "   0.36000822    ,   -1.3680226    ,\n",
    "   0.37000333    ,   -1.7085796    ,\n",
    "   0.40000182    ,   -1.4231257    ,\n",
    "   0.45000369    ,   -1.3021671    ,\n",
    "   0.50000557    ,   -1.4589919    ,\n",
    "   0.55000744    ,   -1.2116271    ,\n",
    "   0.60000931    ,   -1.4385856    ,\n",
    "   0.65001119    ,   -1.1091520    ,\n",
    "   0.69999989    ,  -0.74561116    ,\n",
    "   0.75000176    ,  -0.29874633    ,\n",
    "   0.80000364    ,    0.0000000 ]   \n",
    "\n",
    "pmass=[]\n",
    "for i in range(1, len(data), 2):\n",
    "    pmass.append(data[i])\n",
    "    \n",
    "print('pmass array:')\n",
    "print(pmass)\n",
    "print('/')\n",
    "print('m_dot_max =', m_dot_max, 'kg/s')\n",
    "print('/')\n",
    "m_dot_max = abs(min(pmass))\n",
    "\n",
    "pmass2 =[]\n",
    "for j in pmass:\n",
    "    if j < 0:\n",
    "        pmass2.append(j)\n",
    "arr = np.array([pmass2])\n",
    "print('average flow rate=',np.abs(np.average(arr)),'kg/s')"
   ]
  },
  {
   "cell_type": "code",
   "execution_count": 26,
   "id": "ab519edc",
   "metadata": {},
   "outputs": [
    {
     "name": "stdout",
     "output_type": "stream",
     "text": [
      "[0.0, 0.010008276, 0.020003383, 0.030011659, 0.040006766, 0.050001873, 0.060010149, 0.070005257, 0.080000364, 0.09000864, 0.10000375, 0.10999885, 0.12000713, 0.13000224, 0.14001051, 0.15000562, 0.16000073, 0.170009, 0.18000411, 0.18999922, 0.20000749, 0.2100026, 0.22001088, 0.23000598, 0.24000109, 0.25000937, 0.26000447, 0.26999958, 0.28000786, 0.29000296, 0.30001124, 0.31000635, 0.32000146, 0.33000973, 0.34000484, 0.34999995, 0.36000822, 0.37000333, 0.40000182, 0.45000369, 0.50000557, 0.55000744, 0.60000931, 0.65001119, 0.69999989, 0.75000176, 0.80000364]\n"
     ]
    }
   ],
   "source": [
    "t = []\n",
    "for k in range(0, len(data), 2):\n",
    "    t.append(data[k])\n",
    "print(t)"
   ]
  },
  {
   "cell_type": "code",
   "execution_count": 27,
   "id": "89babb6c",
   "metadata": {},
   "outputs": [
    {
     "data": {
      "image/png": "[encoded data removed]",
      "text/plain": [
       "<Figure size 432x288 with 1 Axes>"
      ]
     },
     "metadata": {
      "needs_background": "light"
     },
     "output_type": "display_data"
    }
   ],
   "source": [
    "plt.figure()\n",
    "plt.plot(t, np.array(pmass))\n",
    "plt.title('Mass flow rate')\n",
    "plt.ylabel('mass flow rate [kg/s]')\n",
    "plt.xlabel('time [s]')\n",
    "plt.show()"
   ]
  },
  {
   "cell_type": "code",
   "execution_count": 30,
   "id": "12234b6f",
   "metadata": {},
   "outputs": [],
   "source": [
    "#mdot = rho A V\n",
    "v = m_dot_max/(2500*0.18e-2)"
   ]
  },
  {
   "cell_type": "code",
   "execution_count": 35,
   "id": "c758740e",
   "metadata": {},
   "outputs": [
    {
     "name": "stdout",
     "output_type": "stream",
     "text": [
      "pmass array:\n",
      "[0.0, 0.0, 0.0, 0.0, -2.6944274, -1.4101192, -2.15224, -2.0145985, -1.8288248, -1.5892279, -1.6360999, -1.5657992, -1.6372334, -1.8912344, -1.7271507, -1.7584933, -1.2460985, -1.454048, -1.14931, -0.50995347, 0.0, 0.0, 0.0, 0.0]\n",
      "/\n",
      "m_dot_max = 2.6944274 kg/s\n",
      "/\n",
      "average flow rate= 1.6415536668750002 kg/s\n"
     ]
    }
   ],
   "source": [
    "# \n",
    "# Run type: NEW\n",
    "# Monitor type: Flow rate across surface, Area =   0.29400000E-02\n",
    "# \"Time\",\"pmass\" \n",
    "dt=[    0.0000000    ,    0.0000000 ,\n",
    "   0.50003492E-01,    0.0000000    ,\n",
    "   0.10000698    ,    0.0000000    ,\n",
    "   0.15001048    ,    0.0000000    ,\n",
    "   0.20001397    ,   -2.6944274    ,\n",
    "   0.24999906    ,   -1.4101192    ,\n",
    "   0.30000255    ,   -2.1522400    ,\n",
    "   0.35000604    ,   -2.0145985    ,\n",
    "   0.40000954    ,   -1.8288248    ,\n",
    "   0.45001303    ,   -1.5892279    ,\n",
    "   0.50001652    ,   -1.6360999    ,\n",
    "   0.55000161    ,   -1.5657992    ,\n",
    "   0.60000510    ,   -1.6372334    ,\n",
    "   0.65000859    ,   -1.8912344    ,\n",
    "   0.70001209    ,   -1.7271507    ,\n",
    "   0.75001558    ,   -1.7584933    ,\n",
    "   0.80000067    ,   -1.2460985    ,\n",
    "   0.85000416    ,   -1.4540480    ,\n",
    "   0.90000765    ,   -1.1493100    ,\n",
    "   0.95001114    ,  -0.50995347    ,\n",
    "    1.0000146    ,    0.0000000    ,\n",
    "    1.0499997    ,    0.0000000    ,\n",
    "    1.1000032    ,    0.0000000    ,\n",
    "    1.1500067    ,    0.0000000  ] \n",
    "pm=[]\n",
    "for i in range(1, len(dt), 2):\n",
    "    pm.append(dt[i])\n",
    "    \n",
    "print('pmass array:')\n",
    "print(pm)\n",
    "print('/')\n",
    "print('m_dot_max =', m_dot_max, 'kg/s')\n",
    "print('/')\n",
    "m_dot_max = abs(min(pm))\n",
    "\n",
    "pm2 =[]\n",
    "for j in pm:\n",
    "    if j < 0:\n",
    "        pm2.append(j)\n",
    "arr = np.array([pm2])\n",
    "print('average flow rate=',np.abs(np.average(arr)),'kg/s')"
   ]
  },
  {
   "cell_type": "code",
   "execution_count": 38,
   "id": "9c8198f7",
   "metadata": {
    "scrolled": true
   },
   "outputs": [
    {
     "name": "stdout",
     "output_type": "stream",
     "text": [
      "0.3665887619047619\n"
     ]
    }
   ],
   "source": [
    "v = 2.6944274/(2500*0.29400000E-02)\n",
    "print(v)"
   ]
  },
  {
   "cell_type": "code",
   "execution_count": 36,
   "id": "2c2ad840",
   "metadata": {},
   "outputs": [
    {
     "name": "stdout",
     "output_type": "stream",
     "text": [
      "[0.0, 0.010008276, 0.020003383, 0.030011659, 0.040006766, 0.050001873, 0.060010149, 0.070005257, 0.080000364, 0.09000864, 0.10000375, 0.10999885, 0.12000713, 0.13000224, 0.14001051, 0.15000562, 0.16000073, 0.170009, 0.18000411, 0.18999922, 0.20000749, 0.2100026, 0.22001088, 0.23000598]\n"
     ]
    }
   ],
   "source": [
    "t1 = []\n",
    "for k in range(0, len(dt), 2):\n",
    "    t1.append(data[k])\n",
    "print(t1)"
   ]
  },
  {
   "cell_type": "code",
   "execution_count": 37,
   "id": "0c246e11",
   "metadata": {},
   "outputs": [
    {
     "data": {
      "image/png": "[encoded data removed]",
      "text/plain": [
       "<Figure size 432x288 with 1 Axes>"
      ]
     },
     "metadata": {
      "needs_background": "light"
     },
     "output_type": "display_data"
    }
   ],
   "source": [
    "plt.figure()\n",
    "plt.plot(t1, np.array(pm))\n",
    "plt.title('Mass flow rate')\n",
    "plt.ylabel('mass flow rate [kg/s]')\n",
    "plt.xlabel('time [s]')\n",
    "plt.show()"
   ]
  },
  {
   "cell_type": "code",
   "execution_count": 71,
   "id": "bd4dc831",
   "metadata": {},
   "outputs": [
    {
     "name": "stdout",
     "output_type": "stream",
     "text": [
      "[0.15213628, 0.18377463, 0.099504815, 0.10187049, 0.077550735, 0.099181653, 0.12553348, 0.081937675, 0.11315328, 0.09069336, 0.12485523, 0.089059266, 0.069365678, 0.07281609, 0.28565415, 0.15263607]\n",
      "[-2.2649769, -1.6622268, -1.5380425, -1.5301815, -1.5366058, -1.4983034, -1.5200612, -1.4713757, -1.4871043, -1.4921283, -1.4985443, -1.4809407, -1.4844912, -1.4595204, -0.93319393, -0.63098733]\n",
      "[0.27572587, 0.12550591, 0.1012956, 0.064069916, 0.079489842, 0.077472088, 0.064900881, 0.075156867, 0.092444582, 0.063091232, 0.14200095, 0.03714554, 0.063318205, 0.12244994, 0.12979587, 0.10873036]\n",
      "//\n",
      "V_max = 2.2867642118533134 m/s\n",
      "//\n",
      "v_avg = 1.47945941066087 m/s\n"
     ]
    }
   ],
   "source": [
    "# Monitor type: Maximum over region, Volume =   0.55566000E-04\n",
    "# \"Time\",\"vel_x\",\"vel_y\",\"vel_z\" \n",
    "data =[ 0.20001397    ,   0.15213628    ,   -2.2649769    ,   0.27572587   , \n",
    "   0.24999906    ,   0.18377463    ,   -1.6622268    ,   0.12550591    ,\n",
    "   0.30000255    ,   0.99504815E-01,   -1.5380425    ,   0.10129560    ,\n",
    "   0.35000604    ,   0.10187049    ,   -1.5301815    ,   0.64069916E-01,\n",
    "   0.40000954    ,   0.77550735E-01,   -1.5366058    ,   0.79489842E-01,\n",
    "   0.45001303    ,   0.99181653E-01,   -1.4983034    ,   0.77472088E-01,\n",
    "   0.50001652    ,   0.12553348    ,   -1.5200612    ,   0.64900881E-01,\n",
    "   0.55000161    ,   0.81937675E-01,   0-1.4713757    ,   0.75156867E-01,\n",
    "   0.60000510    ,   0.11315328    ,   -1.4871043    ,   0.92444582E-01,\n",
    "   0.65000859    ,   0.90693360E-01,   -1.4921283    ,   0.63091232E-01,\n",
    "   0.70001209    ,   0.12485523    ,   -1.4985443    ,   0.14200095    ,\n",
    "   0.75001558    ,   0.89059266E-01,   -1.4809407    ,   0.37145540E-01,\n",
    "   0.80000067    ,   0.69365678E-01,   -1.4844912    ,   0.63318205E-01,\n",
    "   0.85000416    ,   0.72816090E-01,   -1.4595204    ,   0.12244994    ,\n",
    "   0.90000765    ,   0.28565415    ,  -0.93319393    ,   0.12979587    ,\n",
    "   0.95001114    ,   0.15263607    ,  -0.63098733    ,   0.10873036    ]\n",
    "x =[]\n",
    "for i in range(1,len(data),4):\n",
    "    x.append(data[i])\n",
    "print(x)\n",
    "\n",
    "y =[]\n",
    "for i in range(2,len(data),4):\n",
    "    y.append(data[i])\n",
    "print(y)\n",
    "\n",
    "z =[]\n",
    "for i in range(3,len(data),4):\n",
    "    z.append(data[i])\n",
    "print(z)\n",
    "\n",
    "mag=[]\n",
    "for j in range(0,len(y),1):\n",
    "    mag.append((x[j]**2+y[j]**2+z[j]**2)**0.5)\n",
    "print('//')\n",
    "print('V_max =',max(mag), 'm/s')\n",
    "print('//')\n",
    "print('v_avg =', np.average(np.array([mag])), 'm/s')"
   ]
  },
  {
   "cell_type": "code",
   "execution_count": 68,
   "id": "a31f1e54",
   "metadata": {},
   "outputs": [
    {
     "name": "stdout",
     "output_type": "stream",
     "text": [
      "[0.20001397, 0.24999906, 0.30000255, 0.35000604, 0.40000954, 0.45001303, 0.50001652, 0.55000161, 0.6000051, 0.65000859, 0.70001209, 0.75001558, 0.80000067, 0.85000416, 0.90000765, 0.95001114]\n"
     ]
    }
   ],
   "source": [
    "t2 = []\n",
    "for i in range(0,len(data),4):\n",
    "    t2.append(data[i])\n",
    "print(t2)"
   ]
  },
  {
   "cell_type": "code",
   "execution_count": 69,
   "id": "f0c45e57",
   "metadata": {},
   "outputs": [
    {
     "data": {
      "image/png": "[encoded data removed]",
      "text/plain": [
       "<Figure size 432x288 with 1 Axes>"
      ]
     },
     "metadata": {
      "needs_background": "light"
     },
     "output_type": "display_data"
    }
   ],
   "source": [
    "plt.figure()\n",
    "plt.plot(t2, np.array(mag))\n",
    "plt.title('Velocity magnitude of DEM particles')\n",
    "plt.ylabel('Velocity magnitude [m/s]')\n",
    "plt.xlabel('time [s]')\n",
    "plt.show()"
   ]
  },
  {
   "cell_type": "code",
   "execution_count": 21,
   "id": "8f1a4992",
   "metadata": {},
   "outputs": [
    {
     "name": "stdout",
     "output_type": "stream",
     "text": [
      "pmass array:\n",
      "[0.0, 0.0, 0.0, -0.26424385, -0.37132761, -0.29077142, -0.34913838, -0.27632929, -0.28529693, -0.24351195, -0.22728983, -0.26236557, -0.2750733, -0.20855221, -0.25690696, -0.22651358, -0.23242554, -0.18435367, -0.25097073, -0.20647462, -0.20616294, -0.19300565, -0.1757498, -0.18335246, -0.11036849, -0.063020214, -0.040174888, -0.0042366526, -0.015091254, -0.0028123165, 0.0]\n",
      "/\n",
      "m_dot_max = 0.37132761 kg/s\n",
      "/\n",
      "average flow rate= 0.20020444833703707 kg/s\n"
     ]
    }
   ],
   "source": [
    "#this is for the 3rd iteration physical twin + bucket \n",
    "# Run type: NEW\n",
    "# Monitor type: Flow rate across surface, Area =   0.23707000E-01\n",
    "# \"Time\",\"pmass\" \n",
    "import matplotlib.pyplot as plt\n",
    "import numpy as np\n",
    "data=[    0.0000000    ,    0.0000000,    \n",
    "   0.50000039E-01,    0.0000000    ,\n",
    "   0.10000008    ,    0.0000000    ,\n",
    "   0.15000012    ,  -0.26424385    ,\n",
    "   0.20000016    ,  -0.37132761    ,\n",
    "   0.25000019    ,  -0.29077142    ,\n",
    "   0.30000023    ,  -0.34913838    ,\n",
    "   0.35000027    ,  -0.27632929    ,\n",
    "   0.40000031    ,  -0.28529693    ,\n",
    "   0.45000035    ,  -0.24351195    ,\n",
    "   0.50000039    ,  -0.22728983    ,\n",
    "   0.55000043    ,  -0.26236557    ,\n",
    "   0.60000047    ,  -0.27507330    ,\n",
    "   0.65000050    ,  -0.20855221    ,\n",
    "   0.70000054    ,  -0.25690696    ,\n",
    "   0.75000058    ,  -0.22651358    ,\n",
    "   0.80000062    ,  -0.23242554    ,\n",
    "   0.85000066    ,  -0.18435367    ,\n",
    "   0.90000070    ,  -0.25097073    ,\n",
    "   0.95000074    ,  -0.20647462    ,\n",
    "    1.0000008    ,  -0.20616294    ,\n",
    "    1.0500008    ,  -0.19300565    ,\n",
    "    1.1000009    ,  -0.17574980    ,\n",
    "    1.1500009    ,  -0.18335246    ,\n",
    "    1.2000009    ,  -0.11036849    ,\n",
    "    1.2500010    ,  -0.63020214E-01,\n",
    "    1.3000010    ,  -0.40174888E-01,\n",
    "    1.3500010    ,  -0.42366526E-02,\n",
    "    1.4000011    ,  -0.15091254E-01,\n",
    "    1.4500011    ,  -0.28123165E-02,\n",
    "    1.5000012    ,    0.0000000    ]\n",
    "\n",
    "pmass=[]\n",
    "for i in range(1, len(data), 2):\n",
    "    pmass.append(data[i])\n",
    "\n",
    "m_dot_max = abs(min(pmass))\n",
    "print('pmass array:')\n",
    "print(pmass)\n",
    "print('/')\n",
    "print('m_dot_max =', m_dot_max, 'kg/s')\n",
    "print('/')\n",
    "\n",
    "pmass2 =[]\n",
    "for j in pmass:\n",
    "    if j < 0:\n",
    "        pmass2.append(j)\n",
    "arr = np.array([pmass2])\n",
    "print('average flow rate=',np.abs(np.average(arr)),'kg/s')"
   ]
  },
  {
   "cell_type": "code",
   "execution_count": 19,
   "id": "c054ffe0",
   "metadata": {},
   "outputs": [
    {
     "name": "stdout",
     "output_type": "stream",
     "text": [
      "[0.0, 0.050000039, 0.10000008, 0.15000012, 0.20000016, 0.25000019, 0.30000023, 0.35000027, 0.40000031, 0.45000035, 0.50000039, 0.55000043, 0.60000047, 0.6500005, 0.70000054, 0.75000058, 0.80000062, 0.85000066, 0.9000007, 0.95000074, 1.0000008, 1.0500008, 1.1000009, 1.1500009, 1.2000009, 1.250001, 1.300001, 1.350001, 1.4000011, 1.4500011, 1.5000012]\n"
     ]
    },
    {
     "data": {
      "image/png": "[encoded data removed]",
      "text/plain": [
       "<Figure size 432x288 with 1 Axes>"
      ]
     },
     "metadata": {
      "needs_background": "light"
     },
     "output_type": "display_data"
    }
   ],
   "source": [
    "t1 = []\n",
    "for k in range(0, len(data), 2):\n",
    "    t1.append(data[k])\n",
    "print(t1)\n",
    "\n",
    "plt.figure()\n",
    "plt.plot(t1, np.array(pmass))\n",
    "plt.title('Mass flow rate')\n",
    "plt.ylabel('mass flow rate [kg/s]')\n",
    "plt.xlabel('time [s]')\n",
    "plt.show()"
   ]
  },
  {
   "cell_type": "code",
   "execution_count": 36,
   "id": "26a991c1",
   "metadata": {},
   "outputs": [
    {
     "name": "stdout",
     "output_type": "stream",
     "text": [
      "//\n",
      "V_max = 2.5994723830181723 m/s\n",
      "//\n",
      "v_avg = 1.379184899736408 m/s\n"
     ]
    }
   ],
   "source": [
    "# Run type: NEW\n",
    "# Monitor type: Maximum over region, Volume =   0.16689728E-04\n",
    "# \"Time\",\"vel_x\",\"vel_y\",\"vel_z\" \n",
    "velocities=[    0.0000000    ,  0,  0, 0,\n",
    "   0.50000039E-01,  0,  0,  0,\n",
    "   0.10000008    ,  0,  0,  0,\n",
    "   0.15000012    ,   0.36489980    ,   -1.4624258    ,   0.27903139    ,\n",
    "   0.20000016    ,   0.51997881    ,  -0.83566563    ,   0.47899675    ,\n",
    "   0.25000019    ,   0.68212777    ,  -0.60457159    ,   0.41788986    ,\n",
    "   0.30000023    ,    1.0819806    ,  -0.39269955    ,   0.78030288    ,\n",
    "   0.35000027    ,    1.7711692    ,  -0.41056457    ,    1.8578625    ,\n",
    "   0.40000031    ,   0.61320465    ,  -0.80372566    ,   0.70533069    ,\n",
    "   0.45000035    ,    1.3856472    ,  -0.42328593    ,    1.5124026    ,\n",
    "   0.50000039    ,    1.2948800    ,  -0.76537908    ,   0.74133739    ,\n",
    "   0.55000043    ,   0.64658284    ,  -0.58376588    ,   0.60044587    ,\n",
    "   0.60000047    ,   0.27268142    ,  -0.68544820    ,   0.82644905    ,\n",
    "   0.65000050    ,    1.2395925    ,  -0.40878770    ,   0.85152918    ,\n",
    "   0.70000054    ,   0.75136603    ,  -0.62770838    ,   0.65412608    ,\n",
    "   0.75000058    ,    1.2849468    ,  -0.54867497    ,    1.0057731    ,\n",
    "   0.80000062    ,   0.59870612    ,  -0.61437504    ,    1.0832896    ,\n",
    "   0.85000066    ,   0.54470973    ,  -0.60927231    ,    1.4877278    ,\n",
    "   0.90000070    ,   0.77533058    ,  -0.70375544    ,   0.74437945    ,\n",
    "   0.95000074    ,   0.37485565    ,  -0.63537167    ,    2.3841799    ,\n",
    "    1.0000008    ,   0.42034694    ,  -0.54691490    ,   0.92077968    ,\n",
    "    1.0500008    ,   0.75258154    ,  -0.71628022    ,   0.31700184    ,\n",
    "    1.1000009    ,    1.2439599    ,  -0.65900229    ,   0.68982785    ,\n",
    "    1.1500009    ,   0.28081959    ,  -0.57663437    ,   0.61448207    ,\n",
    "    1.2000009    ,   0.56870239    ,  -0.61988454    ,   0.39656959    ,\n",
    "    1.2500010    ,   0.23799707    ,  -0.91132164    ,   0.64672547    ,\n",
    "    1.3000010    ,   0.85775854    ,  -0.50541379    ,   0.33664922    ,\n",
    "    1.3500010    ,   0.16191943    ,  -0.90284235    ,   0.25450023    ,\n",
    "    1.4000011    ,   0.27034228    ,  -0.94198589    ,   0.82804260E-01,\n",
    "    1.4500011    ,  0,  0,  0,\n",
    "    1.5000012    ,  0,  0,  0,\n",
    "    1.5500012    ,  0,  0,  0,\n",
    "            1.6000012    ,  0,  0,  0\n",
    "           ]\n",
    "x =[]\n",
    "for i in range(1,len(velocities),4):\n",
    "    x.append(velocities[i])\n",
    "# print(x)\n",
    "\n",
    "y =[]\n",
    "for i in range(2,len(velocities),4):\n",
    "    y.append(velocities[i])\n",
    "# print(y)\n",
    "\n",
    "z =[]\n",
    "for i in range(3,len(velocities),4):\n",
    "    z.append(velocities[i])\n",
    "# print(z)\n",
    "\n",
    "mag=[]\n",
    "for j in range(0,len(y),1):\n",
    "    mag.append((x[j]**2+y[j]**2+z[j]**2)**0.5)\n",
    "\n",
    "mag2 =[]\n",
    "for k in mag:\n",
    "    if k>0:\n",
    "        mag2.append(k)\n",
    "# print(mag2)    \n",
    "\n",
    "print('//')\n",
    "print('V_max =',max(mag2), 'm/s')\n",
    "print('//')\n",
    "print('v_avg =', np.average(np.array([mag2])), 'm/s')"
   ]
  },
  {
   "cell_type": "code",
   "execution_count": 37,
   "id": "64a11efa",
   "metadata": {},
   "outputs": [
    {
     "name": "stdout",
     "output_type": "stream",
     "text": [
      "[0.0, 0.050000039, 0.10000008, 0.15000012, 0.20000016, 0.25000019, 0.30000023, 0.35000027, 0.40000031, 0.45000035, 0.50000039, 0.55000043, 0.60000047, 0.6500005, 0.70000054, 0.75000058, 0.80000062, 0.85000066, 0.9000007, 0.95000074, 1.0000008, 1.0500008, 1.1000009, 1.1500009, 1.2000009, 1.250001, 1.300001, 1.350001, 1.4000011, 1.4500011, 1.5000012, 1.5500012, 1.6000012]\n"
     ]
    },
    {
     "data": {
      "image/png": "[encoded data removed]",
      "text/plain": [
       "<Figure size 432x288 with 1 Axes>"
      ]
     },
     "metadata": {
      "needs_background": "light"
     },
     "output_type": "display_data"
    }
   ],
   "source": [
    "t2 = []\n",
    "for i in range(0,len(velocities),4):\n",
    "    t2.append(velocities[i])\n",
    "print(t2)\n",
    "\n",
    "plt.figure()\n",
    "plt.plot(t2, np.array(mag))\n",
    "plt.title('Velocity magnitude of DEM particles')\n",
    "plt.ylabel('Velocity magnitude [m/s]')\n",
    "plt.xlabel('time [s]')\n",
    "plt.show()"
   ]
  },
  {
   "cell_type": "code",
   "execution_count": null,
   "id": "0904f9a2",
   "metadata": {},
   "outputs": [],
   "source": []
  }
 ],
 "metadata": {
  "kernelspec": {
   "display_name": "Python 3 (ipykernel)",
   "language": "python",
   "name": "python3"
  },
  "language_info": {
   "codemirror_mode": {
    "name": "ipython",
    "version": 3
   },
   "file_extension": ".py",
   "mimetype": "text/x-python",
   "name": "python",
   "nbconvert_exporter": "python",
   "pygments_lexer": "ipython3",
   "version": "3.9.12"
  }
 },
 "nbformat": 4,
 "nbformat_minor": 5
}
