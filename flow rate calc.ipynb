{
 "cells": [
  {
   "cell_type": "code",
   "execution_count": 10,
   "id": "99bc158b",
   "metadata": {},
   "outputs": [
    {
     "name": "stdout",
     "output_type": "stream",
     "text": [
      "[0.28735632183908044, 0.2802690582959641, 0.29708853238265004, 0.29188558085230587, 0.30321406913280774]\n",
      "m_dot = 0.2919627125005616 kg/s\n",
      "0.007884584813465406\n"
     ]
    }
   ],
   "source": [
    "import numpy as np\n",
    "\n",
    "# 8mm beads flow rate\n",
    "\n",
    "f_start = [1509, 2189, 2292, 2148, 2038]\n",
    "f_end = [2379, 3527, 3975, 3861, 3687]\n",
    "fps = [1000, 1500, 2000, 2000, 2000]\n",
    "m = 250e-3 #kg\n",
    "\n",
    "f_tot = []\n",
    "time = []\n",
    "m_dot = []\n",
    "for i in range(len(f_start)):\n",
    "    f_tot.append(f_end[i]-f_start[i])\n",
    "    time.append(f_tot[i]/fps[i])\n",
    "    m_dot.append(m/time[i])\n",
    "print(m_dot)\n",
    "print('m_dot =',np.average(m_dot), 'kg/s')\n",
    "print(np.std(m_dot))"
   ]
  },
  {
   "cell_type": "code",
   "execution_count": 11,
   "id": "da6f5b3c",
   "metadata": {},
   "outputs": [
    {
     "name": "stdout",
     "output_type": "stream",
     "text": [
      "[0.33579583613163194, 0.33025099075297226, 0.34106412005457026, 0.3263707571801567]\n",
      "m_dot = 0.3333704260298328 kg/s\n",
      "0.005563312465605327\n"
     ]
    }
   ],
   "source": [
    "# 6mm beads flow rate\n",
    "\n",
    "f_start1 = [2183, 2362, 2270, 2373]\n",
    "f_end1 = [3672, 3876, 3736, 3905]\n",
    "fps1 = 2000\n",
    "m = 250e-3 #kg\n",
    "\n",
    "f_tot1 = []\n",
    "time1 = []\n",
    "m_dot1 = []\n",
    "for i in range(len(f_start1)):\n",
    "    f_tot1.append(f_end1[i]-f_start1[i])\n",
    "    time1.append(f_tot1[i]/fps1)\n",
    "    m_dot1.append(m/time1[i])\n",
    "print(m_dot1)\n",
    "print('m_dot =',np.average(m_dot1), 'kg/s')\n",
    "print(np.std(m_dot1))"
   ]
  },
  {
   "cell_type": "code",
   "execution_count": 16,
   "id": "d5b0ec10",
   "metadata": {},
   "outputs": [
    {
     "name": "stdout",
     "output_type": "stream",
     "text": [
      "[0.3656307129798903, 0.3948667324777888, 0.3762935089369709, 0.372093023255814, 0.34246575342465757]\n",
      "m_dot = 0.3702699462150243 kg/s\n",
      "0.016965874182911136\n"
     ]
    }
   ],
   "source": [
    "# 6mm beads flow rate\n",
    "\n",
    "f_start2 = [1913, 1850, 1895, 2927, 1998]\n",
    "f_end2 = [3007, 2863, 2958, 4002, 3166]\n",
    "fps2 = 2000\n",
    "m = 200e-3 #kg\n",
    "\n",
    "f_tot2 = []\n",
    "time2 = []\n",
    "m_dot2 = []\n",
    "for i in range(len(f_start2)):\n",
    "    f_tot2.append(f_end2[i]-f_start2[i])\n",
    "    time2.append(f_tot2[i]/fps2)\n",
    "    m_dot2.append(m/time2[i])\n",
    "print(m_dot2)\n",
    "print('m_dot =',np.average(m_dot2), 'kg/s')\n",
    "print(np.std(m_dot2))"
   ]
  }
 ],
 "metadata": {
  "kernelspec": {
   "display_name": "Python 3 (ipykernel)",
   "language": "python",
   "name": "python3"
  },
  "language_info": {
   "codemirror_mode": {
    "name": "ipython",
    "version": 3
   },
   "file_extension": ".py",
   "mimetype": "text/x-python",
   "name": "python",
   "nbconvert_exporter": "python",
   "pygments_lexer": "ipython3",
   "version": "3.9.12"
  }
 },
 "nbformat": 4,
 "nbformat_minor": 5
}
