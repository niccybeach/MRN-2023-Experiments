{
 "cells": [
  {
   "cell_type": "code",
   "execution_count": 8,
   "id": "99bc158b",
   "metadata": {},
   "outputs": [
    {
     "name": "stdout",
     "output_type": "stream",
     "text": [
      "[0.28735632183908044, 0.2802690582959641, 0.29708853238265004, 0.29188558085230587, 0.30321406913280774]\n",
      "m_dot = 0.2919627125005616 kg/s\n"
     ]
    }
   ],
   "source": [
    "import numpy as np\n",
    "f_start = [1509, 2189, 2292, 2148, 2038]\n",
    "f_end = [2379, 3527, 3975, 3861, 3687]\n",
    "fps = [1000, 1500, 2000, 2000, 2000]\n",
    "m = 250e-3 #kg\n",
    "\n",
    "f_tot = []\n",
    "time = []\n",
    "m_dot = []\n",
    "for i in range(len(f_start)):\n",
    "    f_tot.append(f_end[i]-f_start[i])\n",
    "    time.append(f_tot[i]/fps[i])\n",
    "    m_dot.append(m/time[i])\n",
    "print(m_dot)\n",
    "print('m_dot =',np.average(m_dot), 'kg/s')\n"
   ]
  },
  {
   "cell_type": "code",
   "execution_count": 9,
   "id": "da6f5b3c",
   "metadata": {},
   "outputs": [
    {
     "name": "stdout",
     "output_type": "stream",
     "text": [
      "0.007884584813465406\n"
     ]
    }
   ],
   "source": [
    "print(np.std(m_dot))"
   ]
  }
 ],
 "metadata": {
  "kernelspec": {
   "display_name": "Python 3 (ipykernel)",
   "language": "python",
   "name": "python3"
  },
  "language_info": {
   "codemirror_mode": {
    "name": "ipython",
    "version": 3
   },
   "file_extension": ".py",
   "mimetype": "text/x-python",
   "name": "python",
   "nbconvert_exporter": "python",
   "pygments_lexer": "ipython3",
   "version": "3.9.12"
  }
 },
 "nbformat": 4,
 "nbformat_minor": 5
}
